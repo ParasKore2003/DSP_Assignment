{
 "cells": [
  {
   "cell_type": "code",
   "execution_count": 24,
   "metadata": {},
   "outputs": [],
   "source": [
    "#Libraries required for the code\n",
    "import numpy as np\n",
    "import scipy.signal as sign\n",
    "import matplotlib.pyplot as plt"
   ]
  },
  {
   "cell_type": "code",
   "execution_count": 25,
   "metadata": {},
   "outputs": [],
   "source": [
    "def sig(amp,f,t,C,D):\n",
    "    signal = [amp*np.sin(2 * np.pi * f* t* n) for n in np.arange(-20,20,1)]\n",
    "    Z = sign.lfilter(C,D,signal)\n",
    "    return max(Z)"
   ]
  },
  {
   "cell_type": "code",
   "execution_count": 26,
   "metadata": {},
   "outputs": [
    {
     "name": "stdout",
     "output_type": "stream",
     "text": [
      "5.0\n"
     ]
    }
   ],
   "source": [
    "#Question 1\n",
    "# Filter properties\n",
    "A = [1]\n",
    "B = [1, 0, -0.25]\n",
    "f_s = 800\n",
    "ts = 1 / f_s\n",
    "#Input Signal\n",
    "freq = 200\n",
    "amp1 = 4\n",
    "print(sig(amp1, freq, ts, B, A))"
   ]
  },
  {
   "cell_type": "code",
   "execution_count": 27,
   "metadata": {},
   "outputs": [
    {
     "name": "stdout",
     "output_type": "stream",
     "text": [
      "17.320508075688796\n"
     ]
    }
   ],
   "source": [
    "#Question 2\n",
    "#Filter Property\n",
    "A1 = [1]\n",
    "B1 = [1, -2]\n",
    "f_s1 = 600\n",
    "ts1 = 1 / f_s1\n",
    "#Input Signal\n",
    "freq1 = 100\n",
    "amp2 = 10\n",
    "print(sig(amp2, freq1 ,ts1 ,B1 ,A1))"
   ]
  }
 ],
 "metadata": {
  "kernelspec": {
   "display_name": "Python 3",
   "language": "python",
   "name": "python3"
  },
  "language_info": {
   "codemirror_mode": {
    "name": "ipython",
    "version": 3
   },
   "file_extension": ".py",
   "mimetype": "text/x-python",
   "name": "python",
   "nbconvert_exporter": "python",
   "pygments_lexer": "ipython3",
   "version": "3.10.11"
  },
  "orig_nbformat": 4
 },
 "nbformat": 4,
 "nbformat_minor": 2
}
